{
 "cells": [
  {
   "cell_type": "markdown",
   "metadata": {},
   "source": [
    "## 1.2.1 Known Statistics---Computation for matrix inversion"
   ]
  },
  {
   "cell_type": "code",
   "execution_count": 5,
   "metadata": {},
   "outputs": [
    {
     "name": "stdout",
     "output_type": "stream",
     "text": [
      "R_x:\n",
      "[[ 5 -1 -2]\n",
      " [-1  5 -1]\n",
      " [-2 -1  5]]\n",
      "inverted R_x:\n",
      " [[0.26373626 0.07692308 0.12087912]\n",
      " [0.07692308 0.23076923 0.07692308]\n",
      " [0.12087912 0.07692308 0.26373626]]\n"
     ]
    }
   ],
   "source": [
    "import numpy as np\n",
    "R_x = np.array([5,-1,-2,-1,5,-1,-2,-1,5]).reshape((3,3))\n",
    "print(f'R_x:\\n{R_x}')\n",
    "print(f'inverted R_x:\\n {np.linalg.inv(R_x)}')"
   ]
  }
 ],
 "metadata": {
  "interpreter": {
   "hash": "fa08476c79a14107fff6c30a61c56e3cfd7a111c8dc4c8fc938621cbf6ddb6b6"
  },
  "kernelspec": {
   "display_name": "Python 3.8.5 ('base')",
   "language": "python",
   "name": "python3"
  },
  "language_info": {
   "codemirror_mode": {
    "name": "ipython",
    "version": 3
   },
   "file_extension": ".py",
   "mimetype": "text/x-python",
   "name": "python",
   "nbconvert_exporter": "python",
   "pygments_lexer": "ipython3",
   "version": "3.8.5"
  },
  "orig_nbformat": 4
 },
 "nbformat": 4,
 "nbformat_minor": 2
}

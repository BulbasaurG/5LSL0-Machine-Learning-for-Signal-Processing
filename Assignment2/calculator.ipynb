{
 "cells": [
  {
   "cell_type": "code",
   "execution_count": 1,
   "metadata": {},
   "outputs": [],
   "source": [
    "import numpy as np"
   ]
  },
  {
   "cell_type": "markdown",
   "metadata": {},
   "source": [
    "## Linear models"
   ]
  },
  {
   "cell_type": "code",
   "execution_count": 73,
   "metadata": {},
   "outputs": [
    {
     "name": "stdout",
     "output_type": "stream",
     "text": [
      "[[1.00000000e-01]\n",
      " [4.00000000e-01]\n",
      " [2.77555756e-17]]\n"
     ]
    }
   ],
   "source": [
    "# Q3\n",
    "\n",
    "# inputs\n",
    "x = np.array([[0,0],[0.1,1],[1,0.2],[1,1]])\n",
    "# outputs\n",
    "y = np.array([[0],[0.41],[0.18],[0.5]])\n",
    "# append 1 to each row vector of x to calculate b, \n",
    "# transpose X_ to make it a set of column vector x\n",
    "X_ = np.append(x,np.ones((len(x),1)),axis=1).T\n",
    "\n",
    "theta = np.linalg.inv(X_@(X_.T))@X_@y\n",
    "\n",
    "print(theta)\n"
   ]
  },
  {
   "cell_type": "code",
   "execution_count": 92,
   "metadata": {},
   "outputs": [
    {
     "name": "stdout",
     "output_type": "stream",
     "text": [
      "[[ 0.10107389]\n",
      " [ 0.41070998]\n",
      " [-0.05022928]]\n"
     ]
    }
   ],
   "source": [
    "# Q4\n",
    "\n",
    "y_4 = np.array([[-0.0416],[0.3610],[0.1222],[0.4733]])\n",
    "\n",
    "theta = np.linalg.inv(X_@(X_.T))@X_@y_4\n",
    "\n",
    "print(theta)"
   ]
  }
 ],
 "metadata": {
  "interpreter": {
   "hash": "e42634819b8c191a5d07eaf23810ff32516dd8d3875f28ec3e488928fbd3c187"
  },
  "kernelspec": {
   "display_name": "Python 3.8.5 ('base')",
   "language": "python",
   "name": "python3"
  },
  "language_info": {
   "codemirror_mode": {
    "name": "ipython",
    "version": 3
   },
   "file_extension": ".py",
   "mimetype": "text/x-python",
   "name": "python",
   "nbconvert_exporter": "python",
   "pygments_lexer": "ipython3",
   "version": "3.8.5"
  },
  "orig_nbformat": 4
 },
 "nbformat": 4,
 "nbformat_minor": 2
}

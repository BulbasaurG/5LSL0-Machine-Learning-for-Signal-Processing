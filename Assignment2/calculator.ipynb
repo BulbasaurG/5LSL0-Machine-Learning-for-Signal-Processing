{
 "cells": [
  {
   "cell_type": "code",
   "execution_count": 134,
   "metadata": {},
   "outputs": [],
   "source": [
    "import numpy as np\n",
    "import matplotlib.pyplot as plt\n",
    "import os"
   ]
  },
  {
   "cell_type": "markdown",
   "metadata": {},
   "source": [
    "## Linear models"
   ]
  },
  {
   "cell_type": "code",
   "execution_count": 73,
   "metadata": {},
   "outputs": [
    {
     "name": "stdout",
     "output_type": "stream",
     "text": [
      "[[1.00000000e-01]\n",
      " [4.00000000e-01]\n",
      " [2.77555756e-17]]\n"
     ]
    }
   ],
   "source": [
    "# Q3\n",
    "\n",
    "# inputs\n",
    "x = np.array([[0,0],[0.1,1],[1,0.2],[1,1]])\n",
    "# outputs\n",
    "y = np.array([[0],[0.41],[0.18],[0.5]])\n",
    "# append 1 to each row vector of x to calculate b, \n",
    "# transpose X_ to make it a set of column vector x\n",
    "X_ = np.append(x,np.ones((len(x),1)),axis=1).T\n",
    "\n",
    "theta = np.linalg.inv(X_@(X_.T))@X_@y\n",
    "\n",
    "print(theta)\n"
   ]
  },
  {
   "cell_type": "code",
   "execution_count": 93,
   "metadata": {},
   "outputs": [
    {
     "name": "stdout",
     "output_type": "stream",
     "text": [
      "[[ 0.10107389]\n",
      " [ 0.41070998]\n",
      " [-0.05022928]]\n"
     ]
    }
   ],
   "source": [
    "# Q4\n",
    "\n",
    "y_4 = np.array([[-0.0416],[0.3610],[0.1222],[0.4733]])\n",
    "\n",
    "theta = np.linalg.inv(X_@(X_.T))@X_@y_4\n",
    "\n",
    "print(theta)"
   ]
  },
  {
   "cell_type": "code",
   "execution_count": 94,
   "metadata": {},
   "outputs": [
    {
     "name": "stdout",
     "output_type": "stream",
     "text": [
      "[[1.66533454e-16]\n",
      " [5.55111512e-17]\n",
      " [5.00000000e-01]]\n"
     ]
    }
   ],
   "source": [
    "# Q6\n",
    "# inputs\n",
    "x = np.array([[0,0],[0,1],[1,0],[1,1]])\n",
    "# outputs\n",
    "y = np.array([[0],[1],[1],[0]])\n",
    "# append 1 to each row vector of x to calculate b, \n",
    "# transpose X_ to make it a set of column vector x\n",
    "X_ = np.append(x,np.ones((len(x),1)),axis=1).T\n",
    "\n",
    "theta = np.linalg.inv(X_@(X_.T))@X_@y\n",
    "\n",
    "print(theta)\n"
   ]
  },
  {
   "cell_type": "code",
   "execution_count": 124,
   "metadata": {},
   "outputs": [
    {
     "data": {
      "text/plain": [
       "array([[ 0.,  1.,  1.,  2.],\n",
       "       [-1.,  0.,  0.,  1.]])"
      ]
     },
     "execution_count": 124,
     "metadata": {},
     "output_type": "execute_result"
    }
   ],
   "source": [
    "x = np.array([[0,0],[0,1],[1,0],[1,1]])\n",
    "w_1 = np.ones((2,2))\n",
    "b_1 = np.array([[0],[-1]])\n",
    "w_1@x.T+b_1"
   ]
  },
  {
   "cell_type": "code",
   "execution_count": 136,
   "metadata": {},
   "outputs": [
    {
     "data": {
      "image/png": "[encoded data removed]",
      "text/plain": [
       "<Figure size 648x288 with 2 Axes>"
      ]
     },
     "metadata": {
      "needs_background": "light"
     },
     "output_type": "display_data"
    }
   ],
   "source": [
    "# Q10\n",
    "h2 = np.arange(-1,2,0.1)\n",
    "h1 = 0.5 + 2*h2\n",
    "\n",
    "fig, (ax1, ax2) = plt.subplots(1, 2,figsize=(9,4))\n",
    "fig.suptitle('Input and latend space mapping')\n",
    "ax1.plot(0,0,\"ro\")\n",
    "ax1.plot(1,1,\"ro\")\n",
    "ax1.plot(0,1,\"r+\")\n",
    "ax1.plot(1,0,\"r+\")\n",
    "ax2.plot(0,0,\"ro\")\n",
    "ax2.plot(2,1,\"ro\")\n",
    "ax2.plot(1,0,\"r+\")\n",
    "ax2.plot(h1,h2,\"k--\",label=\"f(x;theta)=0.5\")\n",
    "\n",
    "ax1.set_xlim([-1,4])\n",
    "ax1.set_ylim([-1,2])\n",
    "ax1.grid()\n",
    "ax2.grid()\n",
    "ax2.legend()\n",
    "plt.savefig(os.path.join(os.path.abspath(\".\"),\"figure/Q10.png\"))\n",
    "plt.show()\n"
   ]
  }
 ],
 "metadata": {
  "interpreter": {
   "hash": "e42634819b8c191a5d07eaf23810ff32516dd8d3875f28ec3e488928fbd3c187"
  },
  "kernelspec": {
   "display_name": "Python 3.8.5 ('base')",
   "language": "python",
   "name": "python3"
  },
  "language_info": {
   "codemirror_mode": {
    "name": "ipython",
    "version": 3
   },
   "file_extension": ".py",
   "mimetype": "text/x-python",
   "name": "python",
   "nbconvert_exporter": "python",
   "pygments_lexer": "ipython3",
   "version": "3.8.5"
  },
  "orig_nbformat": 4
 },
 "nbformat": 4,
 "nbformat_minor": 2
}
